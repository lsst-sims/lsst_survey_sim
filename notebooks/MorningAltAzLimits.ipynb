{
 "cells": [
  {
   "cell_type": "code",
   "execution_count": null,
   "id": "081f5f0b-5794-472d-8af0-57f9dbb34805",
   "metadata": {},
   "outputs": [],
   "source": [
    "# Check on expected morning azimuth limits\n",
    "import numpy as np\n",
    "import matplotlib.pyplot as plt\n",
    "from astropy.time import Time, TimeDelta\n",
    "from astropy.coordinates import EarthLocation, get_sun, AltAz\n",
    "import rubin_nights.dayobs_utils as rn_dayobs\n",
    "\n",
    "day_obs = rn_dayobs.day_obs_str_to_int(rn_dayobs.today_day_obs())\n",
    "_, dawn = rn_dayobs.day_obs_sunset_sunrise(day_obs, sun_alt=0)\n",
    "end = rn_dayobs.day_obs_to_time(day_obs) + TimeDelta(1.3, 'jd')\n",
    "end, _ = rn_dayobs.day_obs_sunset_sunrise(rn_dayobs.time_to_day_obs(rn_dayobs.day_obs_to_time(day_obs) + TimeDelta(1, 'jd')), sun_alt=0)\n",
    "times = Time(np.arange(dawn.mjd, end.mjd, 1/24), format='mjd', scale='utc')\n",
    "location = EarthLocation.of_site(\"Rubin\")\n",
    "sun_pos = get_sun(times)\n",
    "altazframes = AltAz(location=location, obstime=times)\n",
    "altaz = sun_pos.transform_to(altazframes)\n",
    "\n",
    "theta = altaz.az.rad\n",
    "r = 90 - altaz.alt.deg \n",
    "\n",
    "fig, ax = plt.subplots(subplot_kw={'projection': 'polar'})\n",
    "ax.plot(theta, r, 'k.')\n",
    "ax.plot(theta[0], r[0], 'yo')\n",
    "# extrapolated limits .. add to safety masks\n",
    "ax.plot([theta[0]+np.radians(45), theta[0]+np.radians(45)], [0, 90], color='r')\n",
    "ax.plot([theta[-1]-np.radians(10), theta[-1]-np.radians(10)], [0, 90], color='r')\n",
    "\n",
    "# Summit operational constraints (#summit-announce, 2025-10-27)\n",
    "ax.plot(np.radians([270, 270]), [0, 90], color='b')\n",
    "ax.plot(np.radians([315, 315]), [0, 90], color='b')\n",
    "\n",
    "ax.set_theta_zero_location('N')  # Set 0 degrees (azimuth) to North\n",
    "ax.set_theta_direction(-1)       # Set direction to clockwise\n",
    "\n",
    "print(f\"Dayobs {day_obs}\")\n",
    "print(f\"Sunrise az {altaz.az.deg[0] :.0f}, Ending az {altaz.az.deg[-1]:.0f}\")\n",
    "print(f\"Limits: {altaz.az.deg[0] + 45 :.0f} {altaz.az.deg[-1] - 10:.0f}\")\n",
    "\n",
    "print(\"summit limits 270 to 315\")"
   ]
  },
  {
   "cell_type": "code",
   "execution_count": null,
   "id": "cf58d8f9-63de-4f77-a8f4-92839e5ea1eb",
   "metadata": {},
   "outputs": [],
   "source": []
  }
 ],
 "metadata": {
  "kernelspec": {
   "display_name": "Python 3 (ipykernel)",
   "language": "python",
   "name": "python3"
  },
  "language_info": {
   "codemirror_mode": {
    "name": "ipython",
    "version": 3
   },
   "file_extension": ".py",
   "mimetype": "text/x-python",
   "name": "python",
   "nbconvert_exporter": "python",
   "pygments_lexer": "ipython3",
   "version": "3.13.1"
  }
 },
 "nbformat": 4,
 "nbformat_minor": 5
}
